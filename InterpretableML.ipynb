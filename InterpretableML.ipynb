{
  "nbformat": 4,
  "nbformat_minor": 0,
  "metadata": {
    "colab": {
      "name": "InterpretableML.ipynb",
      "provenance": [],
      "collapsed_sections": [],
      "include_colab_link": true
    },
    "kernelspec": {
      "name": "python3",
      "display_name": "Python 3"
    }
  },
  "cells": [
    {
      "cell_type": "markdown",
      "metadata": {
        "id": "view-in-github",
        "colab_type": "text"
      },
      "source": [
        "<a href=\"https://colab.research.google.com/github/plenoi/CMU_DataScience/blob/master/InterpretableML.ipynb\" target=\"_parent\"><img src=\"https://colab.research.google.com/assets/colab-badge.svg\" alt=\"Open In Colab\"/></a>"
      ]
    },
    {
      "cell_type": "markdown",
      "metadata": {
        "id": "a0sk4mOqSQqT",
        "colab_type": "text"
      },
      "source": [
        "# Import data from R to PyTHon"
      ]
    },
    {
      "cell_type": "markdown",
      "metadata": {
        "id": "BtGkNABNbEyL",
        "colab_type": "text"
      },
      "source": [
        "Load Test RData"
      ]
    },
    {
      "cell_type": "code",
      "metadata": {
        "id": "FDbcYGznQyhG",
        "colab_type": "code",
        "colab": {
          "base_uri": "https://localhost:8080/",
          "height": 399
        },
        "outputId": "2e3080da-4888-4b01-ce5d-56a266eaba4c"
      },
      "source": [
        "!wget https://raw.githubusercontent.com/christophM/interpretable-ml-book/master/data/bike.RData\n",
        "!wget https://raw.githubusercontent.com/christophM/interpretable-ml-book/master/data/cervical.RData"
      ],
      "execution_count": 33,
      "outputs": [
        {
          "output_type": "stream",
          "text": [
            "--2019-11-10 04:14:37--  https://raw.githubusercontent.com/christophM/interpretable-ml-book/master/data/bike.RData\n",
            "Resolving raw.githubusercontent.com (raw.githubusercontent.com)... 151.101.0.133, 151.101.64.133, 151.101.128.133, ...\n",
            "Connecting to raw.githubusercontent.com (raw.githubusercontent.com)|151.101.0.133|:443... connected.\n",
            "HTTP request sent, awaiting response... 200 OK\n",
            "Length: 15956 (16K) [application/octet-stream]\n",
            "Saving to: ‘bike.RData.1’\n",
            "\n",
            "\rbike.RData.1          0%[                    ]       0  --.-KB/s               \rbike.RData.1        100%[===================>]  15.58K  --.-KB/s    in 0.007s  \n",
            "\n",
            "2019-11-10 04:14:38 (2.16 MB/s) - ‘bike.RData.1’ saved [15956/15956]\n",
            "\n",
            "--2019-11-10 04:14:39--  https://raw.githubusercontent.com/christophM/interpretable-ml-book/master/data/cervical.RData\n",
            "Resolving raw.githubusercontent.com (raw.githubusercontent.com)... 151.101.0.133, 151.101.64.133, 151.101.128.133, ...\n",
            "Connecting to raw.githubusercontent.com (raw.githubusercontent.com)|151.101.0.133|:443... connected.\n",
            "HTTP request sent, awaiting response... 200 OK\n",
            "Length: 6617 (6.5K) [application/octet-stream]\n",
            "Saving to: ‘cervical.RData’\n",
            "\n",
            "cervical.RData      100%[===================>]   6.46K  --.-KB/s    in 0s      \n",
            "\n",
            "2019-11-10 04:14:39 (77.1 MB/s) - ‘cervical.RData’ saved [6617/6617]\n",
            "\n"
          ],
          "name": "stdout"
        }
      ]
    },
    {
      "cell_type": "markdown",
      "metadata": {
        "id": "7rzO34HbbJ9S",
        "colab_type": "text"
      },
      "source": [
        "Convert to Pandas Data Frame"
      ]
    },
    {
      "cell_type": "code",
      "metadata": {
        "id": "fJlKOV2UZYvZ",
        "colab_type": "code",
        "colab": {
          "base_uri": "https://localhost:8080/",
          "height": 202
        },
        "outputId": "1c2abbd8-3416-4721-af11-19f79e3ae490"
      },
      "source": [
        "#!pip install pyreadr\n",
        "import pyreadr\n",
        "result = pyreadr.read_r('bike.RData')\n",
        "df = result[\"bike\"]\n",
        "df.head()"
      ],
      "execution_count": 32,
      "outputs": [
        {
          "output_type": "execute_result",
          "data": {
            "text/html": [
              "<div>\n",
              "<style scoped>\n",
              "    .dataframe tbody tr th:only-of-type {\n",
              "        vertical-align: middle;\n",
              "    }\n",
              "\n",
              "    .dataframe tbody tr th {\n",
              "        vertical-align: top;\n",
              "    }\n",
              "\n",
              "    .dataframe thead th {\n",
              "        text-align: right;\n",
              "    }\n",
              "</style>\n",
              "<table border=\"1\" class=\"dataframe\">\n",
              "  <thead>\n",
              "    <tr style=\"text-align: right;\">\n",
              "      <th></th>\n",
              "      <th>season</th>\n",
              "      <th>yr</th>\n",
              "      <th>mnth</th>\n",
              "      <th>holiday</th>\n",
              "      <th>weekday</th>\n",
              "      <th>workingday</th>\n",
              "      <th>weathersit</th>\n",
              "      <th>temp</th>\n",
              "      <th>hum</th>\n",
              "      <th>windspeed</th>\n",
              "      <th>cnt</th>\n",
              "      <th>days_since_2011</th>\n",
              "    </tr>\n",
              "  </thead>\n",
              "  <tbody>\n",
              "    <tr>\n",
              "      <th>0</th>\n",
              "      <td>SPRING</td>\n",
              "      <td>2011</td>\n",
              "      <td>JAN</td>\n",
              "      <td>NO HOLIDAY</td>\n",
              "      <td>SAT</td>\n",
              "      <td>NO WORKING DAY</td>\n",
              "      <td>MISTY</td>\n",
              "      <td>8.175849</td>\n",
              "      <td>80.5833</td>\n",
              "      <td>10.749882</td>\n",
              "      <td>985</td>\n",
              "      <td>0.0</td>\n",
              "    </tr>\n",
              "    <tr>\n",
              "      <th>1</th>\n",
              "      <td>SPRING</td>\n",
              "      <td>2011</td>\n",
              "      <td>JAN</td>\n",
              "      <td>NO HOLIDAY</td>\n",
              "      <td>SUN</td>\n",
              "      <td>NO WORKING DAY</td>\n",
              "      <td>MISTY</td>\n",
              "      <td>9.083466</td>\n",
              "      <td>69.6087</td>\n",
              "      <td>16.652113</td>\n",
              "      <td>801</td>\n",
              "      <td>1.0</td>\n",
              "    </tr>\n",
              "    <tr>\n",
              "      <th>2</th>\n",
              "      <td>SPRING</td>\n",
              "      <td>2011</td>\n",
              "      <td>JAN</td>\n",
              "      <td>NO HOLIDAY</td>\n",
              "      <td>MON</td>\n",
              "      <td>WORKING DAY</td>\n",
              "      <td>GOOD</td>\n",
              "      <td>1.229108</td>\n",
              "      <td>43.7273</td>\n",
              "      <td>16.636703</td>\n",
              "      <td>1349</td>\n",
              "      <td>2.0</td>\n",
              "    </tr>\n",
              "    <tr>\n",
              "      <th>3</th>\n",
              "      <td>SPRING</td>\n",
              "      <td>2011</td>\n",
              "      <td>JAN</td>\n",
              "      <td>NO HOLIDAY</td>\n",
              "      <td>TUE</td>\n",
              "      <td>WORKING DAY</td>\n",
              "      <td>GOOD</td>\n",
              "      <td>1.400000</td>\n",
              "      <td>59.0435</td>\n",
              "      <td>10.739832</td>\n",
              "      <td>1562</td>\n",
              "      <td>3.0</td>\n",
              "    </tr>\n",
              "    <tr>\n",
              "      <th>4</th>\n",
              "      <td>SPRING</td>\n",
              "      <td>2011</td>\n",
              "      <td>JAN</td>\n",
              "      <td>NO HOLIDAY</td>\n",
              "      <td>WED</td>\n",
              "      <td>WORKING DAY</td>\n",
              "      <td>GOOD</td>\n",
              "      <td>2.666979</td>\n",
              "      <td>43.6957</td>\n",
              "      <td>12.522300</td>\n",
              "      <td>1600</td>\n",
              "      <td>4.0</td>\n",
              "    </tr>\n",
              "  </tbody>\n",
              "</table>\n",
              "</div>"
            ],
            "text/plain": [
              "   season    yr mnth     holiday  ...      hum  windspeed   cnt  days_since_2011\n",
              "0  SPRING  2011  JAN  NO HOLIDAY  ...  80.5833  10.749882   985              0.0\n",
              "1  SPRING  2011  JAN  NO HOLIDAY  ...  69.6087  16.652113   801              1.0\n",
              "2  SPRING  2011  JAN  NO HOLIDAY  ...  43.7273  16.636703  1349              2.0\n",
              "3  SPRING  2011  JAN  NO HOLIDAY  ...  59.0435  10.739832  1562              3.0\n",
              "4  SPRING  2011  JAN  NO HOLIDAY  ...  43.6957  12.522300  1600              4.0\n",
              "\n",
              "[5 rows x 12 columns]"
            ]
          },
          "metadata": {
            "tags": []
          },
          "execution_count": 32
        }
      ]
    },
    {
      "cell_type": "code",
      "metadata": {
        "id": "seCT7C3rhMP5",
        "colab_type": "code",
        "colab": {
          "base_uri": "https://localhost:8080/",
          "height": 222
        },
        "outputId": "56cb109a-2b34-4692-a19d-4b42944c2789"
      },
      "source": [
        "import pyreadr\n",
        "result = pyreadr.read_r('cervical.RData')\n",
        "df = result[\"cervical\"]\n",
        "df.head()"
      ],
      "execution_count": 34,
      "outputs": [
        {
          "output_type": "execute_result",
          "data": {
            "text/html": [
              "<div>\n",
              "<style scoped>\n",
              "    .dataframe tbody tr th:only-of-type {\n",
              "        vertical-align: middle;\n",
              "    }\n",
              "\n",
              "    .dataframe tbody tr th {\n",
              "        vertical-align: top;\n",
              "    }\n",
              "\n",
              "    .dataframe thead th {\n",
              "        text-align: right;\n",
              "    }\n",
              "</style>\n",
              "<table border=\"1\" class=\"dataframe\">\n",
              "  <thead>\n",
              "    <tr style=\"text-align: right;\">\n",
              "      <th></th>\n",
              "      <th>Age</th>\n",
              "      <th>Number.of.sexual.partners</th>\n",
              "      <th>First.sexual.intercourse</th>\n",
              "      <th>Num.of.pregnancies</th>\n",
              "      <th>Smokes</th>\n",
              "      <th>Smokes..years.</th>\n",
              "      <th>Hormonal.Contraceptives</th>\n",
              "      <th>Hormonal.Contraceptives..years.</th>\n",
              "      <th>IUD</th>\n",
              "      <th>IUD..years.</th>\n",
              "      <th>STDs</th>\n",
              "      <th>STDs..number.</th>\n",
              "      <th>STDs..Number.of.diagnosis</th>\n",
              "      <th>STDs..Time.since.first.diagnosis</th>\n",
              "      <th>STDs..Time.since.last.diagnosis</th>\n",
              "      <th>Biopsy</th>\n",
              "    </tr>\n",
              "  </thead>\n",
              "  <tbody>\n",
              "    <tr>\n",
              "      <th>0</th>\n",
              "      <td>18</td>\n",
              "      <td>4.0</td>\n",
              "      <td>15.0</td>\n",
              "      <td>1.0</td>\n",
              "      <td>0.0</td>\n",
              "      <td>0.0</td>\n",
              "      <td>0.0</td>\n",
              "      <td>0.0</td>\n",
              "      <td>0.0</td>\n",
              "      <td>0.0</td>\n",
              "      <td>0.0</td>\n",
              "      <td>0.0</td>\n",
              "      <td>0</td>\n",
              "      <td>1.0</td>\n",
              "      <td>1.0</td>\n",
              "      <td>Healthy</td>\n",
              "    </tr>\n",
              "    <tr>\n",
              "      <th>1</th>\n",
              "      <td>15</td>\n",
              "      <td>1.0</td>\n",
              "      <td>14.0</td>\n",
              "      <td>1.0</td>\n",
              "      <td>0.0</td>\n",
              "      <td>0.0</td>\n",
              "      <td>0.0</td>\n",
              "      <td>0.0</td>\n",
              "      <td>0.0</td>\n",
              "      <td>0.0</td>\n",
              "      <td>0.0</td>\n",
              "      <td>0.0</td>\n",
              "      <td>0</td>\n",
              "      <td>1.0</td>\n",
              "      <td>1.0</td>\n",
              "      <td>Healthy</td>\n",
              "    </tr>\n",
              "    <tr>\n",
              "      <th>2</th>\n",
              "      <td>34</td>\n",
              "      <td>1.0</td>\n",
              "      <td>15.0</td>\n",
              "      <td>1.0</td>\n",
              "      <td>0.0</td>\n",
              "      <td>0.0</td>\n",
              "      <td>0.0</td>\n",
              "      <td>0.0</td>\n",
              "      <td>0.0</td>\n",
              "      <td>0.0</td>\n",
              "      <td>0.0</td>\n",
              "      <td>0.0</td>\n",
              "      <td>0</td>\n",
              "      <td>1.0</td>\n",
              "      <td>1.0</td>\n",
              "      <td>Healthy</td>\n",
              "    </tr>\n",
              "    <tr>\n",
              "      <th>3</th>\n",
              "      <td>52</td>\n",
              "      <td>5.0</td>\n",
              "      <td>16.0</td>\n",
              "      <td>4.0</td>\n",
              "      <td>1.0</td>\n",
              "      <td>37.0</td>\n",
              "      <td>1.0</td>\n",
              "      <td>3.0</td>\n",
              "      <td>0.0</td>\n",
              "      <td>0.0</td>\n",
              "      <td>0.0</td>\n",
              "      <td>0.0</td>\n",
              "      <td>0</td>\n",
              "      <td>1.0</td>\n",
              "      <td>1.0</td>\n",
              "      <td>Healthy</td>\n",
              "    </tr>\n",
              "    <tr>\n",
              "      <th>4</th>\n",
              "      <td>46</td>\n",
              "      <td>3.0</td>\n",
              "      <td>21.0</td>\n",
              "      <td>4.0</td>\n",
              "      <td>0.0</td>\n",
              "      <td>0.0</td>\n",
              "      <td>1.0</td>\n",
              "      <td>15.0</td>\n",
              "      <td>0.0</td>\n",
              "      <td>0.0</td>\n",
              "      <td>0.0</td>\n",
              "      <td>0.0</td>\n",
              "      <td>0</td>\n",
              "      <td>1.0</td>\n",
              "      <td>1.0</td>\n",
              "      <td>Healthy</td>\n",
              "    </tr>\n",
              "  </tbody>\n",
              "</table>\n",
              "</div>"
            ],
            "text/plain": [
              "   Age  Number.of.sexual.partners  ...  STDs..Time.since.last.diagnosis   Biopsy\n",
              "0   18                        4.0  ...                              1.0  Healthy\n",
              "1   15                        1.0  ...                              1.0  Healthy\n",
              "2   34                        1.0  ...                              1.0  Healthy\n",
              "3   52                        5.0  ...                              1.0  Healthy\n",
              "4   46                        3.0  ...                              1.0  Healthy\n",
              "\n",
              "[5 rows x 16 columns]"
            ]
          },
          "metadata": {
            "tags": []
          },
          "execution_count": 34
        }
      ]
    },
    {
      "cell_type": "markdown",
      "metadata": {
        "id": "H1zEtdTbSQBl",
        "colab_type": "text"
      },
      "source": [
        "# Interpretible XGBoost"
      ]
    },
    {
      "cell_type": "code",
      "metadata": {
        "id": "_97P0niixt7u",
        "colab_type": "code",
        "colab": {}
      },
      "source": [
        "import pandas as pd\n",
        "import numpy as np\n",
        "df = pd.read_csv('https://raw.githubusercontent.com/plenoi/Clinic/master/ultima_all_clean.csv')\n",
        "df = df.set_index('hn')\n",
        "df_clean_column = df.drop(['appearance','Wardsize','RHlvsi','depth','nodeyiel','vgmargin','pelvicme','adnmet'],axis = 1)\n",
        "df_clean = df_clean_column.dropna(axis = 0)\n",
        "y = df_clean['pmmet']\n",
        "X = df_clean.drop(['pmmet'],axis = 1)\n",
        "\n",
        "from imblearn.over_sampling import SMOTE\n",
        "sm = SMOTE(random_state=1)\n",
        "X_res, y_res = sm.fit_resample(X, y)\n",
        "\n",
        "from sklearn.model_selection import train_test_split\n",
        "X_train, X_test, y_train, y_test = train_test_split(X_res, y_res, test_size=0.2, random_state=1)\n",
        "X_train, X_val, y_train, y_val = train_test_split(X_train, y_train, test_size=0.2, random_state=1)\n",
        "\n",
        "from sklearn.preprocessing import MinMaxScaler\n",
        "scaler = MinMaxScaler(feature_range=(0, 1))\n",
        "scaler.fit(X_train)\n",
        "X_train_norm =  scaler.transform(X_train)\n",
        "X_val_norm = scaler.transform(X_val)\n",
        "X_test_norm = scaler.transform(X_test)"
      ],
      "execution_count": 0,
      "outputs": []
    },
    {
      "cell_type": "code",
      "metadata": {
        "id": "Zu0RW8s-yZQ8",
        "colab_type": "code",
        "colab": {
          "base_uri": "https://localhost:8080/",
          "height": 139
        },
        "outputId": "6022be25-e1d4-42aa-cba4-e8da8c5b164e"
      },
      "source": [
        "import xgboost as xgb\n",
        "model = xgb.XGBClassifier(random_state=0, eta=0.01,objective= \"binary:logistic\", subsample=0.5)\n",
        "model.fit(X_train_norm, y_train)"
      ],
      "execution_count": 58,
      "outputs": [
        {
          "output_type": "execute_result",
          "data": {
            "text/plain": [
              "XGBClassifier(base_score=0.5, booster='gbtree', colsample_bylevel=1,\n",
              "              colsample_bynode=1, colsample_bytree=1, eta=0.01, gamma=0,\n",
              "              learning_rate=0.1, max_delta_step=0, max_depth=3,\n",
              "              min_child_weight=1, missing=None, n_estimators=100, n_jobs=1,\n",
              "              nthread=None, objective='binary:logistic', random_state=0,\n",
              "              reg_alpha=0, reg_lambda=1, scale_pos_weight=1, seed=None,\n",
              "              silent=None, subsample=0.5, verbosity=1)"
            ]
          },
          "metadata": {
            "tags": []
          },
          "execution_count": 58
        }
      ]
    },
    {
      "cell_type": "code",
      "metadata": {
        "id": "uoyV_D-z0hgv",
        "colab_type": "code",
        "colab": {
          "base_uri": "https://localhost:8080/",
          "height": 295
        },
        "outputId": "74e2b9fd-d262-4c42-b61b-20acb7b875d3"
      },
      "source": [
        "import matplotlib.pylab as pl\n",
        "xgboost.plot_importance(model, importance_type=\"weight\")\n",
        "pl.title(\"xgboost.plot_importance(model)\")\n",
        "pl.show()"
      ],
      "execution_count": 59,
      "outputs": [
        {
          "output_type": "display_data",
          "data": {
            "image/png": "[encoded data removed]",
            "text/plain": [
              "<Figure size 432x288 with 1 Axes>"
            ]
          },
          "metadata": {
            "tags": []
          }
        }
      ]
    },
    {
      "cell_type": "code",
      "metadata": {
        "id": "blGX-dh_1KA5",
        "colab_type": "code",
        "colab": {
          "base_uri": "https://localhost:8080/",
          "height": 295
        },
        "outputId": "fce734a5-2b54-494a-af00-62efc0622127"
      },
      "source": [
        "xgboost.plot_importance(model, importance_type=\"cover\")\n",
        "pl.title('xgboost.plot_importance(model, importance_type=\"cover\")')\n",
        "pl.show()"
      ],
      "execution_count": 53,
      "outputs": [
        {
          "output_type": "display_data",
          "data": {
            "image/png": "[encoded data removed]",
            "text/plain": [
              "<Figure size 432x288 with 1 Axes>"
            ]
          },
          "metadata": {
            "tags": []
          }
        }
      ]
    },
    {
      "cell_type": "code",
      "metadata": {
        "id": "JfgblBMh1LWF",
        "colab_type": "code",
        "colab": {
          "base_uri": "https://localhost:8080/",
          "height": 295
        },
        "outputId": "d309511e-a988-4412-e868-f2d8f2fff9ee"
      },
      "source": [
        "xgboost.plot_importance(model, importance_type=\"gain\")\n",
        "pl.title('xgboost.plot_importance(model, importance_type=\"gain\")')\n",
        "pl.show()"
      ],
      "execution_count": 54,
      "outputs": [
        {
          "output_type": "display_data",
          "data": {
            "image/png": "[encoded data removed]",
            "text/plain": [
              "<Figure size 432x288 with 1 Axes>"
            ]
          },
          "metadata": {
            "tags": []
          }
        }
      ]
    },
    {
      "cell_type": "markdown",
      "metadata": {
        "id": "PbVIGkJX3f7S",
        "colab_type": "text"
      },
      "source": [
        "# Interpretable Random Forest"
      ]
    },
    {
      "cell_type": "code",
      "metadata": {
        "id": "Gj5gateA04K7",
        "colab_type": "code",
        "colab": {
          "base_uri": "https://localhost:8080/",
          "height": 596
        },
        "outputId": "fe4a6a40-2f1b-48a4-c6eb-0a6f86cfd3ce"
      },
      "source": [
        "from sklearn.ensemble import RandomForestClassifier\n",
        "forest = RandomForestClassifier() \n",
        "forest.fit(X_train_norm, y_train)\n",
        "importances = forest.feature_importances_\n",
        "std = np.std([tree.feature_importances_ for tree in forest.estimators_], axis=0)\n",
        "indices = np.argsort(importances)[::-1]\n",
        "\n",
        "# Print the feature ranking\n",
        "print(\"Feature ranking:\")\n",
        "\n",
        "for f in range(X.shape[1]):\n",
        "    print(\"%d. feature %d (%f)\" % (f + 1, indices[f], importances[indices[f]]))\n",
        "\n",
        "# Plot the feature importances of the forest\n",
        "plt.figure()\n",
        "plt.title(\"Feature importances\")\n",
        "plt.bar(range(X.shape[1]), importances[indices],\n",
        "       color=\"r\", yerr=std[indices], align=\"center\")\n",
        "plt.xticks(range(X.shape[1]), indices)\n",
        "plt.xlim([-1, X.shape[1]])\n",
        "plt.show()"
      ],
      "execution_count": 74,
      "outputs": [
        {
          "output_type": "stream",
          "text": [
            "/usr/local/lib/python3.6/dist-packages/sklearn/ensemble/forest.py:245: FutureWarning: The default value of n_estimators will change from 10 in version 0.20 to 100 in 0.22.\n",
            "  \"10 in version 0.20 to 100 in 0.22.\", FutureWarning)\n"
          ],
          "name": "stderr"
        },
        {
          "output_type": "stream",
          "text": [
            "Feature ranking:\n",
            "1. feature 11 (0.249904)\n",
            "2. feature 13 (0.113310)\n",
            "3. feature 7 (0.100488)\n",
            "4. feature 0 (0.096118)\n",
            "5. feature 12 (0.080537)\n",
            "6. feature 1 (0.061740)\n",
            "7. feature 9 (0.057680)\n",
            "8. feature 10 (0.051705)\n",
            "9. feature 5 (0.050010)\n",
            "10. feature 8 (0.046531)\n",
            "11. feature 6 (0.038634)\n",
            "12. feature 4 (0.027324)\n",
            "13. feature 3 (0.025393)\n",
            "14. feature 2 (0.000626)\n"
          ],
          "name": "stdout"
        },
        {
          "output_type": "display_data",
          "data": {
            "image/png": "[encoded data removed]",
            "text/plain": [
              "<Figure size 432x288 with 1 Axes>"
            ]
          },
          "metadata": {
            "tags": []
          }
        }
      ]
    },
    {
      "cell_type": "code",
      "metadata": {
        "id": "DrQzlz_o4sG8",
        "colab_type": "code",
        "colab": {}
      },
      "source": [
        ""
      ],
      "execution_count": 0,
      "outputs": []
    }
  ]
}