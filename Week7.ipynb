{
 "cells": [
  {
   "cell_type": "markdown",
   "metadata": {},
   "source": [
    "Load Esophagus Cancer Data"
   ]
  },
  {
   "cell_type": "code",
   "execution_count": 1,
   "metadata": {},
   "outputs": [],
   "source": [
    "import numpy as np\n",
    "dataset_train = np.loadtxt('lung.csv',delimiter=',')\n",
    "dataset_test = np.loadtxt('lung_test.csv',delimiter=',')"
   ]
  },
  {
   "cell_type": "markdown",
   "metadata": {},
   "source": [
    "Split Label and Data"
   ]
  },
  {
   "cell_type": "code",
   "execution_count": 2,
   "metadata": {},
   "outputs": [],
   "source": [
    "X_train = dataset_train[:,1:]\n",
    "y_train = dataset_train[:,0]\n",
    "X_test = dataset_test[:,1:]\n",
    "y_test = dataset_test[:,0]"
   ]
  },
  {
   "cell_type": "markdown",
   "metadata": {},
   "source": [
    "Create SVM Model and Perform GridSearch with 10-CV Train Accuracy"
   ]
  },
  {
   "cell_type": "code",
   "execution_count": 49,
   "metadata": {},
   "outputs": [
    {
     "data": {
      "text/plain": [
       "GridSearchCV(cv=10, error_score='raise-deprecating',\n",
       "       estimator=SVC(C=1.0, cache_size=200, class_weight=None, coef0=0.0,\n",
       "  decision_function_shape='ovr', degree=3, gamma='auto_deprecated',\n",
       "  kernel='rbf', max_iter=-1, probability=False, random_state=None,\n",
       "  shrinking=True, tol=0.001, verbose=False),\n",
       "       fit_params=None, iid='warn', n_jobs=None,\n",
       "       param_grid={'C': [1, 2, 4, 8, 16], 'gamma': [0.0625, 0.125, 0.25, 0.5, 0, 1, 2, 4, 8]},\n",
       "       pre_dispatch='2*n_jobs', refit=True, return_train_score='warn',\n",
       "       scoring='accuracy', verbose=0)"
      ]
     },
     "execution_count": 49,
     "metadata": {},
     "output_type": "execute_result"
    }
   ],
   "source": [
    "from sklearn.svm import SVC\n",
    "from sklearn.model_selection import GridSearchCV\n",
    "clf = SVC()\n",
    "parameters = {'C':[1,2,4,8,16],\n",
    "              'gamma':[2**(-4),2**(-3),2**(-2),2**(-1),0,1,2,4,8]}\n",
    "clf = GridSearchCV(clf,parameters,scoring='accuracy',cv=10)\n",
    "clf.fit(X_train, y_train)"
   ]
  },
  {
   "cell_type": "markdown",
   "metadata": {},
   "source": [
    "Check Best Parameters"
   ]
  },
  {
   "cell_type": "code",
   "execution_count": 51,
   "metadata": {},
   "outputs": [
    {
     "data": {
      "text/plain": [
       "{'C': 8, 'gamma': 0.0625}"
      ]
     },
     "execution_count": 51,
     "metadata": {},
     "output_type": "execute_result"
    }
   ],
   "source": [
    "clf.best_params_"
   ]
  },
  {
   "cell_type": "markdown",
   "metadata": {},
   "source": [
    "Check Best 10-CV Training Accuracy"
   ]
  },
  {
   "cell_type": "code",
   "execution_count": 52,
   "metadata": {},
   "outputs": [
    {
     "data": {
      "text/plain": [
       "0.555379746835443"
      ]
     },
     "execution_count": 52,
     "metadata": {},
     "output_type": "execute_result"
    }
   ],
   "source": [
    "clf.best_score_"
   ]
  },
  {
   "cell_type": "markdown",
   "metadata": {},
   "source": [
    "Check Test Accuracy"
   ]
  },
  {
   "cell_type": "code",
   "execution_count": 66,
   "metadata": {},
   "outputs": [
    {
     "data": {
      "text/plain": [
       "0.5845588235294118"
      ]
     },
     "execution_count": 66,
     "metadata": {},
     "output_type": "execute_result"
    }
   ],
   "source": [
    "from sklearn.metrics import accuracy_score\n",
    "y_pred = clf.predict(X_test)\n",
    "accuracy_score(y_test, y_pred)"
   ]
  },
  {
   "cell_type": "markdown",
   "metadata": {},
   "source": [
    "# Feature Selection"
   ]
  },
  {
   "cell_type": "markdown",
   "metadata": {},
   "source": [
    "## Remove Low Variance Features\n",
    "\n",
    "If features having nearly constant or almost the same values for each sample data form different labels, this features is meaningless and should be remove "
   ]
  },
  {
   "cell_type": "code",
   "execution_count": 3,
   "metadata": {},
   "outputs": [
    {
     "data": {
      "text/plain": [
       "(632, 734)"
      ]
     },
     "execution_count": 3,
     "metadata": {},
     "output_type": "execute_result"
    }
   ],
   "source": [
    "from sklearn.feature_selection import VarianceThreshold\n",
    "sel = VarianceThreshold(threshold=0.05)\n",
    "sel.fit(X_train)\n",
    "X_train_sel = sel.transform(X_train)\n",
    "X_test_sel = sel.transform(X_test)\n",
    "X_train_sel.shape"
   ]
  },
  {
   "cell_type": "markdown",
   "metadata": {},
   "source": [
    "Try perform Grid-Search again"
   ]
  },
  {
   "cell_type": "code",
   "execution_count": 55,
   "metadata": {},
   "outputs": [
    {
     "data": {
      "text/plain": [
       "GridSearchCV(cv=10, error_score='raise-deprecating',\n",
       "       estimator=SVC(C=1.0, cache_size=200, class_weight=None, coef0=0.0,\n",
       "  decision_function_shape='ovr', degree=3, gamma='auto_deprecated',\n",
       "  kernel='rbf', max_iter=-1, probability=False, random_state=None,\n",
       "  shrinking=True, tol=0.001, verbose=False),\n",
       "       fit_params=None, iid='warn', n_jobs=None,\n",
       "       param_grid={'C': [1, 2, 4, 8, 16], 'gamma': [0.0625, 0.125, 0.25, 0.5, 0, 1, 2, 4, 8, 16]},\n",
       "       pre_dispatch='2*n_jobs', refit=True, return_train_score='warn',\n",
       "       scoring='accuracy', verbose=0)"
      ]
     },
     "execution_count": 55,
     "metadata": {},
     "output_type": "execute_result"
    }
   ],
   "source": [
    "clf = SVC()\n",
    "parameters = {'C':[1,2,4,8,16],\n",
    "              'gamma':[2**(-4),2**(-3),2**(-2),2**(-1),0,1,2,4,8,16]}\n",
    "clf = GridSearchCV(clf,parameters,scoring='accuracy',cv=10)\n",
    "clf.fit(X_train_sel, y_train)"
   ]
  },
  {
   "cell_type": "markdown",
   "metadata": {},
   "source": [
    "Check best parameters"
   ]
  },
  {
   "cell_type": "code",
   "execution_count": 56,
   "metadata": {},
   "outputs": [
    {
     "data": {
      "text/plain": [
       "{'C': 8, 'gamma': 0.0625}"
      ]
     },
     "execution_count": 56,
     "metadata": {},
     "output_type": "execute_result"
    }
   ],
   "source": [
    "clf.best_params_"
   ]
  },
  {
   "cell_type": "markdown",
   "metadata": {},
   "source": [
    "Check best 10-CV Training Accuracy"
   ]
  },
  {
   "cell_type": "code",
   "execution_count": 57,
   "metadata": {},
   "outputs": [
    {
     "data": {
      "text/plain": [
       "0.5537974683544303"
      ]
     },
     "execution_count": 57,
     "metadata": {},
     "output_type": "execute_result"
    }
   ],
   "source": [
    "clf.best_score_"
   ]
  },
  {
   "cell_type": "markdown",
   "metadata": {},
   "source": [
    "Check Test Accuracy"
   ]
  },
  {
   "cell_type": "code",
   "execution_count": 62,
   "metadata": {},
   "outputs": [
    {
     "data": {
      "text/plain": [
       "0.6066176470588235"
      ]
     },
     "execution_count": 62,
     "metadata": {},
     "output_type": "execute_result"
    }
   ],
   "source": [
    "y_pred = clf.predict(X_test_sel)\n",
    "accuracy_score(y_test, y_pred)"
   ]
  },
  {
   "cell_type": "markdown",
   "metadata": {},
   "source": [
    "## Filter Method\n",
    "\n",
    "Select feature based-on external measurement of each features between different labels and try to find feature that significantly different between labels such as chi2, F-Score or Mutual Information"
   ]
  },
  {
   "cell_type": "markdown",
   "metadata": {},
   "source": [
    "Use SelectionKBest to select 80 Best feature based-on F-Score"
   ]
  },
  {
   "cell_type": "code",
   "execution_count": 74,
   "metadata": {},
   "outputs": [
    {
     "data": {
      "text/plain": [
       "(632, 80)"
      ]
     },
     "execution_count": 74,
     "metadata": {},
     "output_type": "execute_result"
    }
   ],
   "source": [
    "from sklearn.feature_selection import SelectKBest\n",
    "from sklearn.feature_selection import f_classif\n",
    "sel2 = SelectKBest(f_classif, k=80)\n",
    "X_train_sel2 = sel2.fit(X_train_sel,y_train)\n",
    "X_train_sel2 = sel2.transform(X_train_sel)\n",
    "X_test_sel2 = sel2.transform(X_test_sel)\n",
    "X_train_sel2.shape"
   ]
  },
  {
   "cell_type": "markdown",
   "metadata": {},
   "source": [
    "Try to perform Grid-Search again"
   ]
  },
  {
   "cell_type": "code",
   "execution_count": 75,
   "metadata": {},
   "outputs": [
    {
     "data": {
      "text/plain": [
       "GridSearchCV(cv=10, error_score='raise-deprecating',\n",
       "       estimator=SVC(C=1.0, cache_size=200, class_weight=None, coef0=0.0,\n",
       "  decision_function_shape='ovr', degree=3, gamma='auto_deprecated',\n",
       "  kernel='rbf', max_iter=-1, probability=False, random_state=None,\n",
       "  shrinking=True, tol=0.001, verbose=False),\n",
       "       fit_params=None, iid='warn', n_jobs=None,\n",
       "       param_grid={'C': [1, 2, 4, 8, 16], 'gamma': [0.0625, 0.125, 0.25, 0.5, 0, 1, 2, 4, 8, 16]},\n",
       "       pre_dispatch='2*n_jobs', refit=True, return_train_score='warn',\n",
       "       scoring='accuracy', verbose=0)"
      ]
     },
     "execution_count": 75,
     "metadata": {},
     "output_type": "execute_result"
    }
   ],
   "source": [
    "clf = SVC()\n",
    "parameters = {'C':[1,2,4,8,16],\n",
    "              'gamma':[2**(-4),2**(-3),2**(-2),2**(-1),0,1,2,4,8,16]}\n",
    "clf = GridSearchCV(clf,parameters,scoring='accuracy',cv=10)\n",
    "clf.fit(X_train_sel2, y_train)"
   ]
  },
  {
   "cell_type": "markdown",
   "metadata": {},
   "source": [
    "Check best parameters"
   ]
  },
  {
   "cell_type": "code",
   "execution_count": 76,
   "metadata": {},
   "outputs": [
    {
     "data": {
      "text/plain": [
       "{'C': 2, 'gamma': 0.0625}"
      ]
     },
     "execution_count": 76,
     "metadata": {},
     "output_type": "execute_result"
    }
   ],
   "source": [
    "clf.best_params_"
   ]
  },
  {
   "cell_type": "markdown",
   "metadata": {},
   "source": [
    "Check best 10-CV Training Accuracy"
   ]
  },
  {
   "cell_type": "code",
   "execution_count": 78,
   "metadata": {},
   "outputs": [
    {
     "data": {
      "text/plain": [
       "0.564873417721519"
      ]
     },
     "execution_count": 78,
     "metadata": {},
     "output_type": "execute_result"
    }
   ],
   "source": [
    "clf.best_score_"
   ]
  },
  {
   "cell_type": "markdown",
   "metadata": {},
   "source": [
    "Check Test Accuracy"
   ]
  },
  {
   "cell_type": "code",
   "execution_count": 79,
   "metadata": {},
   "outputs": [
    {
     "data": {
      "text/plain": [
       "0.6470588235294118"
      ]
     },
     "execution_count": 79,
     "metadata": {},
     "output_type": "execute_result"
    }
   ],
   "source": [
    "y_pred = clf.predict(X_test_sel2)\n",
    "accuracy_score(y_test, y_pred)"
   ]
  },
  {
   "cell_type": "markdown",
   "metadata": {},
   "source": [
    "## Wrapper Method"
   ]
  },
  {
   "cell_type": "markdown",
   "metadata": {},
   "source": [
    "Evaluated best set of features based on model performance"
   ]
  },
  {
   "cell_type": "markdown",
   "metadata": {},
   "source": [
    "Using Feed Forward Feature Selection to choose features based on SVM 10-CV Training Accuracy Performance"
   ]
  },
  {
   "cell_type": "markdown",
   "metadata": {},
   "source": [
    "**Note: This is my own Feed Forward Feature Selection Function"
   ]
  },
  {
   "cell_type": "code",
   "execution_count": 287,
   "metadata": {},
   "outputs": [],
   "source": [
    "from sklearn.model_selection import cross_val_score\n",
    "def FF_selection(clf, X, y, cv, k):\n",
    "    feature_choose = []\n",
    "    feature_index = list(range(0,X.shape[1]))\n",
    "    while(len(feature_choose) != k):\n",
    "        feature_accuracy = [cross_val_score(clf, X[:,feature_choose+[i]], y, cv = cv, \n",
    "                                            scoring = 'accuracy').mean() for i in feature_index]\n",
    "        current_max_index = np.argmax(feature_accuracy)\n",
    "        feature_choose.append(feature_index[current_max_index])\n",
    "        feature_index.pop(current_max_index)\n",
    "    return feature_choose, feature_accuracy[current_max_index]"
   ]
  },
  {
   "cell_type": "markdown",
   "metadata": {},
   "source": [
    "Creat simple SVM model to perform feature selection"
   ]
  },
  {
   "cell_type": "code",
   "execution_count": 288,
   "metadata": {},
   "outputs": [],
   "source": [
    "clf = SVC(C=1, gamma='auto')\n",
    "feature_choose, accuracy = FF_selection(clf, X_train_sel2, y_train, 10, 10)"
   ]
  },
  {
   "cell_type": "markdown",
   "metadata": {},
   "source": [
    "Check choosing features"
   ]
  },
  {
   "cell_type": "code",
   "execution_count": 294,
   "metadata": {},
   "outputs": [
    {
     "data": {
      "text/plain": [
       "[14, 30, 19, 51, 38, 35, 11, 62, 45, 74]"
      ]
     },
     "execution_count": 294,
     "metadata": {},
     "output_type": "execute_result"
    }
   ],
   "source": [
    "feature_choose"
   ]
  },
  {
   "cell_type": "markdown",
   "metadata": {},
   "source": [
    "Check 10-CV Training Accuracy"
   ]
  },
  {
   "cell_type": "code",
   "execution_count": 292,
   "metadata": {},
   "outputs": [
    {
     "data": {
      "text/plain": [
       "0.6208701356886841"
      ]
     },
     "execution_count": 292,
     "metadata": {},
     "output_type": "execute_result"
    }
   ],
   "source": [
    "clf = SVC(C=1, gamma='auto')\n",
    "cross_val_score(clf,X_train_sel2[:,feature_choose], y_train, cv = 10, scoring = 'accuracy').mean()"
   ]
  },
  {
   "cell_type": "markdown",
   "metadata": {},
   "source": [
    "Check Test Accuracy"
   ]
  },
  {
   "cell_type": "code",
   "execution_count": 295,
   "metadata": {},
   "outputs": [
    {
     "data": {
      "text/plain": [
       "0.6433823529411765"
      ]
     },
     "execution_count": 295,
     "metadata": {},
     "output_type": "execute_result"
    }
   ],
   "source": [
    "clf.fit(X_train_sel2[:,feature_choose], y_train)\n",
    "y_pred = clf.predict(X_test_sel2[:,feature_choose])\n",
    "accuracy_score(y_test, y_pred)"
   ]
  },
  {
   "cell_type": "markdown",
   "metadata": {},
   "source": [
    "Optimize parameters by grid search"
   ]
  },
  {
   "cell_type": "code",
   "execution_count": 296,
   "metadata": {},
   "outputs": [
    {
     "data": {
      "text/plain": [
       "GridSearchCV(cv=10, error_score='raise-deprecating',\n",
       "       estimator=SVC(C=1.0, cache_size=200, class_weight=None, coef0=0.0,\n",
       "  decision_function_shape='ovr', degree=3, gamma='auto_deprecated',\n",
       "  kernel='rbf', max_iter=-1, probability=False, random_state=None,\n",
       "  shrinking=True, tol=0.001, verbose=False),\n",
       "       fit_params=None, iid='warn', n_jobs=None,\n",
       "       param_grid={'C': [1, 2, 4, 8, 16], 'gamma': [0.0625, 0.125, 0.25, 0.5, 0, 1, 2, 4, 8, 16]},\n",
       "       pre_dispatch='2*n_jobs', refit=True, return_train_score='warn',\n",
       "       scoring='accuracy', verbose=0)"
      ]
     },
     "execution_count": 296,
     "metadata": {},
     "output_type": "execute_result"
    }
   ],
   "source": [
    "clf = SVC()\n",
    "parameters = {'C':[1,2,4,8,16],\n",
    "              'gamma':[2**(-4),2**(-3),2**(-2),2**(-1),0,1,2,4,8,16]}\n",
    "clf = GridSearchCV(clf,parameters,scoring='accuracy',cv=10)\n",
    "clf.fit(X_train_sel2[:, feature_choose], y_train)"
   ]
  },
  {
   "cell_type": "code",
   "execution_count": 299,
   "metadata": {},
   "outputs": [
    {
     "data": {
      "text/plain": [
       "{'C': 2, 'gamma': 0.0625}"
      ]
     },
     "execution_count": 299,
     "metadata": {},
     "output_type": "execute_result"
    }
   ],
   "source": [
    "clf.best_params_"
   ]
  },
  {
   "cell_type": "code",
   "execution_count": 300,
   "metadata": {},
   "outputs": [
    {
     "data": {
      "text/plain": [
       "0.6186708860759493"
      ]
     },
     "execution_count": 300,
     "metadata": {},
     "output_type": "execute_result"
    }
   ],
   "source": [
    "clf.best_score_"
   ]
  },
  {
   "cell_type": "code",
   "execution_count": 301,
   "metadata": {},
   "outputs": [
    {
     "data": {
      "text/plain": [
       "0.6617647058823529"
      ]
     },
     "execution_count": 301,
     "metadata": {},
     "output_type": "execute_result"
    }
   ],
   "source": [
    "y_pred = clf.predict(X_test_sel2[:, feature_choose])\n",
    "accuracy_score(y_test, y_pred)"
   ]
  },
  {
   "cell_type": "markdown",
   "metadata": {},
   "source": [
    "Ex 1. Write program to perform Backward Feature Selection\n",
    "1. Start with all features\n",
    "2. Try to remove features 1 by 1 to find a best removing feature\n",
    "3. If number of features = k Then end Else go to 2.\n",
    "   \n",
    "Hint: use set to subtract list"
   ]
  },
  {
   "cell_type": "code",
   "execution_count": 284,
   "metadata": {},
   "outputs": [],
   "source": [
    "def BW_selection(clf, X, y, cv, k):\n",
    "    feature_index = \"\"\" ### Your Code ### \"\"\"\n",
    "    while(len(feature_index) != k):\n",
    "        feature_accuracy = [cross_val_score(clf, X[:, \"\"\" ### Your Code ### \"\"\" ], y, cv = cv, \n",
    "                                            scoring = 'accuracy').mean() for i in feature_index]\n",
    "        \"\"\" ### Your Code ### \"\"\"\n",
    "        \"\"\" ### Your Code ### \"\"\"\n",
    "    return feature_index, feature_accuracy[current_max_index]"
   ]
  },
  {
   "cell_type": "code",
   "execution_count": 302,
   "metadata": {},
   "outputs": [],
   "source": [
    "clf = SVC(C=1, gamma='auto')\n",
    "feature_index, accuracy = BW_selection(clf, X_train_sel2, y_train, 10,50)"
   ]
  },
  {
   "cell_type": "code",
   "execution_count": 305,
   "metadata": {},
   "outputs": [
    {
     "data": {
      "text/plain": [
       "50"
      ]
     },
     "execution_count": 305,
     "metadata": {},
     "output_type": "execute_result"
    }
   ],
   "source": [
    "len(feature_index)"
   ]
  },
  {
   "cell_type": "code",
   "execution_count": 306,
   "metadata": {},
   "outputs": [
    {
     "data": {
      "text/plain": [
       "0.6034554211469534"
      ]
     },
     "execution_count": 306,
     "metadata": {},
     "output_type": "execute_result"
    }
   ],
   "source": [
    "accuracy"
   ]
  },
  {
   "cell_type": "markdown",
   "metadata": {},
   "source": [
    "# Deep Learning using Keras"
   ]
  },
  {
   "cell_type": "markdown",
   "metadata": {},
   "source": [
    "Neural Network vs. Deep Learning Network"
   ]
  },
  {
   "cell_type": "markdown",
   "metadata": {},
   "source": [
    "![Deep](https://ackstorm.com/wp-content/uploads/2019/02/deep-learning.png)"
   ]
  },
  {
   "cell_type": "markdown",
   "metadata": {},
   "source": [
    "Component of neural network"
   ]
  },
  {
   "cell_type": "markdown",
   "metadata": {},
   "source": [
    "![component](https://upload.wikimedia.org/wikipedia/commons/6/60/ArtificialNeuronModel_english.png)"
   ]
  },
  {
   "cell_type": "markdown",
   "metadata": {},
   "source": [
    "Activation Function\n",
    "\n",
    "https://en.wikipedia.org/wiki/Activation_function"
   ]
  },
  {
   "cell_type": "markdown",
   "metadata": {},
   "source": [
    "## Keras"
   ]
  },
  {
   "cell_type": "markdown",
   "metadata": {},
   "source": [
    "Keras is a high-level neural networks API, written in Python and capable of running on top of TensorFlow, CNTK, or Theano. It was developed with a focus on enabling fast experimentation. "
   ]
  },
  {
   "cell_type": "markdown",
   "metadata": {},
   "source": [
    "![Keras](https://raw.github.com/plenoi/CMU_DataScience/master/keras.png)"
   ]
  },
  {
   "cell_type": "markdown",
   "metadata": {},
   "source": [
    "Install Keras by <br>\n",
    "1. Open Anaconda-Navigator <br>\n",
    "2. Create new environment called \"Keras\" using python 3.5 <br>\n",
    "3. Install Keras "
   ]
  },
  {
   "cell_type": "markdown",
   "metadata": {},
   "source": [
    "Load Keras component for create model & KerasClassifier to work with Scikit-Learn"
   ]
  },
  {
   "cell_type": "code",
   "execution_count": 9,
   "metadata": {},
   "outputs": [],
   "source": [
    "from keras.models import Sequential\n",
    "from keras.layers import Dense\n",
    "from keras.wrappers.scikit_learn import KerasClassifier"
   ]
  },
  {
   "cell_type": "markdown",
   "metadata": {},
   "source": [
    "Create Deep Learning model <br> \n",
    "Model Type = Sequential <br>\n",
    "Model Config = [734, 12, 8, 1] <br>\n",
    "Binary Classifier Config"
   ]
  },
  {
   "cell_type": "code",
   "execution_count": 13,
   "metadata": {},
   "outputs": [],
   "source": [
    "def create_model():\n",
    "    model = Sequential()\n",
    "    model.add(Dense(12, input_dim=X_train_sel.shape[1], activation='relu') )\n",
    "    model.add(Dense(8, activation='relu'))\n",
    "    model.add(Dense(1, activation='sigmoid'))\n",
    "    model.compile(loss='binary_crossentropy', optimizer='sgd', metrics=['accuracy'])\n",
    "    return model"
   ]
  },
  {
   "cell_type": "markdown",
   "metadata": {},
   "source": [
    "Create Model with training configuration <br>\n",
    "epochs = 200 <br>\n",
    "batch_size = 20"
   ]
  },
  {
   "cell_type": "code",
   "execution_count": 14,
   "metadata": {},
   "outputs": [],
   "source": [
    "clf = KerasClassifier(build_fn=create_model, epochs=200, batch_size=20)"
   ]
  },
  {
   "cell_type": "markdown",
   "metadata": {},
   "source": [
    "Train Deep Learning Model"
   ]
  },
  {
   "cell_type": "code",
   "execution_count": 15,
   "metadata": {},
   "outputs": [
    {
     "name": "stdout",
     "output_type": "stream",
     "text": [
      "Epoch 1/200\n",
      "632/632 [==============================] - 0s 728us/step - loss: 0.6993 - acc: 0.4968\n",
      "Epoch 2/200\n",
      "632/632 [==============================] - 0s 79us/step - loss: 0.6864 - acc: 0.5823\n",
      "Epoch 3/200\n",
      "632/632 [==============================] - 0s 76us/step - loss: 0.6756 - acc: 0.6123\n",
      "Epoch 4/200\n",
      "632/632 [==============================] - 0s 82us/step - loss: 0.6724 - acc: 0.6076\n",
      "Epoch 5/200\n",
      "632/632 [==============================] - 0s 84us/step - loss: 0.6677 - acc: 0.6250\n",
      "Epoch 6/200\n",
      "632/632 [==============================] - 0s 82us/step - loss: 0.6613 - acc: 0.6108\n",
      "Epoch 7/200\n",
      "632/632 [==============================] - 0s 98us/step - loss: 0.6580 - acc: 0.6234\n",
      "Epoch 8/200\n",
      "632/632 [==============================] - 0s 82us/step - loss: 0.6556 - acc: 0.6218\n",
      "Epoch 9/200\n",
      "632/632 [==============================] - 0s 112us/step - loss: 0.6509 - acc: 0.6203\n",
      "Epoch 10/200\n",
      "632/632 [==============================] - 0s 81us/step - loss: 0.6452 - acc: 0.6313\n",
      "Epoch 11/200\n",
      "632/632 [==============================] - 0s 79us/step - loss: 0.6469 - acc: 0.6187\n",
      "Epoch 12/200\n",
      "632/632 [==============================] - 0s 89us/step - loss: 0.6428 - acc: 0.6313\n",
      "Epoch 13/200\n",
      "632/632 [==============================] - 0s 120us/step - loss: 0.6386 - acc: 0.6282\n",
      "Epoch 14/200\n",
      "632/632 [==============================] - 0s 108us/step - loss: 0.6399 - acc: 0.6171\n",
      "Epoch 15/200\n",
      "632/632 [==============================] - 0s 104us/step - loss: 0.6392 - acc: 0.6218\n",
      "Epoch 16/200\n",
      "632/632 [==============================] - 0s 128us/step - loss: 0.6354 - acc: 0.6361\n",
      "Epoch 17/200\n",
      "632/632 [==============================] - 0s 77us/step - loss: 0.6353 - acc: 0.6203\n",
      "Epoch 18/200\n",
      "632/632 [==============================] - 0s 68us/step - loss: 0.6324 - acc: 0.6503\n",
      "Epoch 19/200\n",
      "632/632 [==============================] - 0s 74us/step - loss: 0.6287 - acc: 0.6361\n",
      "Epoch 20/200\n",
      "632/632 [==============================] - 0s 70us/step - loss: 0.6309 - acc: 0.6203\n",
      "Epoch 21/200\n",
      "632/632 [==============================] - 0s 74us/step - loss: 0.6243 - acc: 0.6440\n",
      "Epoch 22/200\n",
      "632/632 [==============================] - 0s 73us/step - loss: 0.6255 - acc: 0.6139\n",
      "Epoch 23/200\n",
      "632/632 [==============================] - 0s 74us/step - loss: 0.6213 - acc: 0.6361\n",
      "Epoch 24/200\n",
      "632/632 [==============================] - 0s 79us/step - loss: 0.6201 - acc: 0.6519\n",
      "Epoch 25/200\n",
      "632/632 [==============================] - 0s 76us/step - loss: 0.6259 - acc: 0.6329\n",
      "Epoch 26/200\n",
      "632/632 [==============================] - 0s 66us/step - loss: 0.6178 - acc: 0.6503\n",
      "Epoch 27/200\n",
      "632/632 [==============================] - 0s 68us/step - loss: 0.6069 - acc: 0.6741\n",
      "Epoch 28/200\n",
      "632/632 [==============================] - 0s 82us/step - loss: 0.6234 - acc: 0.6313\n",
      "Epoch 29/200\n",
      "632/632 [==============================] - 0s 68us/step - loss: 0.6151 - acc: 0.6661\n",
      "Epoch 30/200\n",
      "632/632 [==============================] - 0s 70us/step - loss: 0.6087 - acc: 0.6582\n",
      "Epoch 31/200\n",
      "632/632 [==============================] - 0s 76us/step - loss: 0.6138 - acc: 0.6566\n",
      "Epoch 32/200\n",
      "632/632 [==============================] - 0s 76us/step - loss: 0.6070 - acc: 0.6820\n",
      "Epoch 33/200\n",
      "632/632 [==============================] - 0s 73us/step - loss: 0.6084 - acc: 0.6709\n",
      "Epoch 34/200\n",
      "632/632 [==============================] - 0s 77us/step - loss: 0.6066 - acc: 0.6582\n",
      "Epoch 35/200\n",
      "632/632 [==============================] - 0s 71us/step - loss: 0.6059 - acc: 0.6551\n",
      "Epoch 36/200\n",
      "632/632 [==============================] - 0s 71us/step - loss: 0.6037 - acc: 0.6677\n",
      "Epoch 37/200\n",
      "632/632 [==============================] - 0s 71us/step - loss: 0.6116 - acc: 0.6487\n",
      "Epoch 38/200\n",
      "632/632 [==============================] - 0s 74us/step - loss: 0.6153 - acc: 0.6503\n",
      "Epoch 39/200\n",
      "632/632 [==============================] - 0s 73us/step - loss: 0.6065 - acc: 0.6472\n",
      "Epoch 40/200\n",
      "632/632 [==============================] - 0s 79us/step - loss: 0.6079 - acc: 0.6804\n",
      "Epoch 41/200\n",
      "632/632 [==============================] - 0s 76us/step - loss: 0.6040 - acc: 0.6630\n",
      "Epoch 42/200\n",
      "632/632 [==============================] - 0s 76us/step - loss: 0.6041 - acc: 0.6456\n",
      "Epoch 43/200\n",
      "632/632 [==============================] - 0s 76us/step - loss: 0.5966 - acc: 0.6804\n",
      "Epoch 44/200\n",
      "632/632 [==============================] - 0s 73us/step - loss: 0.5997 - acc: 0.6456\n",
      "Epoch 45/200\n",
      "632/632 [==============================] - 0s 77us/step - loss: 0.5960 - acc: 0.6566\n",
      "Epoch 46/200\n",
      "632/632 [==============================] - 0s 71us/step - loss: 0.5981 - acc: 0.6772\n",
      "Epoch 47/200\n",
      "632/632 [==============================] - 0s 77us/step - loss: 0.5999 - acc: 0.6472\n",
      "Epoch 48/200\n",
      "632/632 [==============================] - 0s 71us/step - loss: 0.5954 - acc: 0.6630\n",
      "Epoch 49/200\n",
      "632/632 [==============================] - 0s 81us/step - loss: 0.5943 - acc: 0.6725\n",
      "Epoch 50/200\n",
      "632/632 [==============================] - 0s 70us/step - loss: 0.5983 - acc: 0.6566\n",
      "Epoch 51/200\n",
      "632/632 [==============================] - 0s 77us/step - loss: 0.5892 - acc: 0.6899\n",
      "Epoch 52/200\n",
      "632/632 [==============================] - 0s 71us/step - loss: 0.5887 - acc: 0.6598\n",
      "Epoch 53/200\n",
      "632/632 [==============================] - 0s 77us/step - loss: 0.6045 - acc: 0.6566\n",
      "Epoch 54/200\n",
      "632/632 [==============================] - 0s 119us/step - loss: 0.5995 - acc: 0.6456\n",
      "Epoch 55/200\n",
      "632/632 [==============================] - 0s 98us/step - loss: 0.5922 - acc: 0.6582\n",
      "Epoch 56/200\n",
      "632/632 [==============================] - 0s 108us/step - loss: 0.5877 - acc: 0.6915\n",
      "Epoch 57/200\n",
      "632/632 [==============================] - 0s 122us/step - loss: 0.5871 - acc: 0.6646\n",
      "Epoch 58/200\n",
      "632/632 [==============================] - 0s 84us/step - loss: 0.6040 - acc: 0.6551\n",
      "Epoch 59/200\n",
      "632/632 [==============================] - 0s 104us/step - loss: 0.6049 - acc: 0.6361\n",
      "Epoch 60/200\n",
      "632/632 [==============================] - 0s 70us/step - loss: 0.5919 - acc: 0.6709\n",
      "Epoch 61/200\n",
      "632/632 [==============================] - 0s 90us/step - loss: 0.5813 - acc: 0.6804\n",
      "Epoch 62/200\n",
      "632/632 [==============================] - 0s 77us/step - loss: 0.5910 - acc: 0.6883\n",
      "Epoch 63/200\n",
      "632/632 [==============================] - 0s 74us/step - loss: 0.5829 - acc: 0.6772\n",
      "Epoch 64/200\n",
      "632/632 [==============================] - 0s 68us/step - loss: 0.5882 - acc: 0.6772\n",
      "Epoch 65/200\n",
      "632/632 [==============================] - 0s 77us/step - loss: 0.5795 - acc: 0.6867\n",
      "Epoch 66/200\n",
      "632/632 [==============================] - 0s 84us/step - loss: 0.5925 - acc: 0.6614\n",
      "Epoch 67/200\n",
      "632/632 [==============================] - 0s 122us/step - loss: 0.5837 - acc: 0.6772\n",
      "Epoch 68/200\n",
      "632/632 [==============================] - 0s 108us/step - loss: 0.5820 - acc: 0.6709\n",
      "Epoch 69/200\n",
      "632/632 [==============================] - 0s 101us/step - loss: 0.5815 - acc: 0.6899\n",
      "Epoch 70/200\n",
      "632/632 [==============================] - 0s 98us/step - loss: 0.5883 - acc: 0.6820\n",
      "Epoch 71/200\n",
      "632/632 [==============================] - 0s 93us/step - loss: 0.5909 - acc: 0.6788\n",
      "Epoch 72/200\n",
      "632/632 [==============================] - 0s 111us/step - loss: 0.5792 - acc: 0.6867\n",
      "Epoch 73/200\n",
      "632/632 [==============================] - 0s 79us/step - loss: 0.5812 - acc: 0.6677\n",
      "Epoch 74/200\n",
      "632/632 [==============================] - 0s 74us/step - loss: 0.5812 - acc: 0.6946\n",
      "Epoch 75/200\n",
      "632/632 [==============================] - 0s 74us/step - loss: 0.5720 - acc: 0.6915\n",
      "Epoch 76/200\n",
      "632/632 [==============================] - 0s 76us/step - loss: 0.5851 - acc: 0.6804\n",
      "Epoch 77/200\n",
      "632/632 [==============================] - 0s 122us/step - loss: 0.5878 - acc: 0.6756\n",
      "Epoch 78/200\n",
      "632/632 [==============================] - 0s 103us/step - loss: 0.5827 - acc: 0.6693\n",
      "Epoch 79/200\n",
      "632/632 [==============================] - 0s 115us/step - loss: 0.5833 - acc: 0.7057\n",
      "Epoch 80/200\n",
      "632/632 [==============================] - 0s 103us/step - loss: 0.5712 - acc: 0.7073\n",
      "Epoch 81/200\n",
      "632/632 [==============================] - 0s 109us/step - loss: 0.5852 - acc: 0.6772\n",
      "Epoch 82/200\n",
      "632/632 [==============================] - 0s 85us/step - loss: 0.5828 - acc: 0.6915\n",
      "Epoch 83/200\n",
      "632/632 [==============================] - 0s 106us/step - loss: 0.5792 - acc: 0.6661\n",
      "Epoch 84/200\n"
     ]
    },
    {
     "name": "stdout",
     "output_type": "stream",
     "text": [
      "632/632 [==============================] - 0s 122us/step - loss: 0.5800 - acc: 0.6851\n",
      "Epoch 85/200\n",
      "632/632 [==============================] - 0s 98us/step - loss: 0.5685 - acc: 0.6899\n",
      "Epoch 86/200\n",
      "632/632 [==============================] - 0s 82us/step - loss: 0.5799 - acc: 0.6851\n",
      "Epoch 87/200\n",
      "632/632 [==============================] - 0s 95us/step - loss: 0.5754 - acc: 0.6661\n",
      "Epoch 88/200\n",
      "632/632 [==============================] - 0s 84us/step - loss: 0.5642 - acc: 0.6946\n",
      "Epoch 89/200\n",
      "632/632 [==============================] - 0s 95us/step - loss: 0.5796 - acc: 0.6677\n",
      "Epoch 90/200\n",
      "632/632 [==============================] - 0s 108us/step - loss: 0.5678 - acc: 0.7120\n",
      "Epoch 91/200\n",
      "632/632 [==============================] - 0s 103us/step - loss: 0.5753 - acc: 0.6677\n",
      "Epoch 92/200\n",
      "632/632 [==============================] - 0s 84us/step - loss: 0.5683 - acc: 0.6883\n",
      "Epoch 93/200\n",
      "632/632 [==============================] - 0s 89us/step - loss: 0.5805 - acc: 0.6867\n",
      "Epoch 94/200\n",
      "632/632 [==============================] - 0s 74us/step - loss: 0.5951 - acc: 0.6788\n",
      "Epoch 95/200\n",
      "632/632 [==============================] - 0s 82us/step - loss: 0.5655 - acc: 0.6835\n",
      "Epoch 96/200\n",
      "632/632 [==============================] - 0s 74us/step - loss: 0.5715 - acc: 0.6851\n",
      "Epoch 97/200\n",
      "632/632 [==============================] - 0s 73us/step - loss: 0.5743 - acc: 0.6946\n",
      "Epoch 98/200\n",
      "632/632 [==============================] - 0s 79us/step - loss: 0.5678 - acc: 0.6867\n",
      "Epoch 99/200\n",
      "632/632 [==============================] - 0s 93us/step - loss: 0.5853 - acc: 0.6693\n",
      "Epoch 100/200\n",
      "632/632 [==============================] - 0s 136us/step - loss: 0.5662 - acc: 0.7041\n",
      "Epoch 101/200\n",
      "632/632 [==============================] - 0s 112us/step - loss: 0.5586 - acc: 0.6946\n",
      "Epoch 102/200\n",
      "632/632 [==============================] - 0s 123us/step - loss: 0.5667 - acc: 0.6930\n",
      "Epoch 103/200\n",
      "632/632 [==============================] - 0s 96us/step - loss: 0.5594 - acc: 0.6867\n",
      "Epoch 104/200\n",
      "632/632 [==============================] - 0s 95us/step - loss: 0.5564 - acc: 0.7073\n",
      "Epoch 105/200\n",
      "632/632 [==============================] - 0s 85us/step - loss: 0.5628 - acc: 0.6930\n",
      "Epoch 106/200\n",
      "632/632 [==============================] - 0s 77us/step - loss: 0.5747 - acc: 0.6804\n",
      "Epoch 107/200\n",
      "632/632 [==============================] - 0s 77us/step - loss: 0.5686 - acc: 0.6788\n",
      "Epoch 108/200\n",
      "632/632 [==============================] - 0s 79us/step - loss: 0.5591 - acc: 0.6899\n",
      "Epoch 109/200\n",
      "632/632 [==============================] - 0s 76us/step - loss: 0.5565 - acc: 0.6899\n",
      "Epoch 110/200\n",
      "632/632 [==============================] - 0s 62us/step - loss: 0.5557 - acc: 0.6994\n",
      "Epoch 111/200\n",
      "632/632 [==============================] - 0s 68us/step - loss: 0.5570 - acc: 0.6962\n",
      "Epoch 112/200\n",
      "632/632 [==============================] - 0s 68us/step - loss: 0.5701 - acc: 0.7025\n",
      "Epoch 113/200\n",
      "632/632 [==============================] - 0s 66us/step - loss: 0.5579 - acc: 0.6835\n",
      "Epoch 114/200\n",
      "632/632 [==============================] - 0s 65us/step - loss: 0.5594 - acc: 0.7104\n",
      "Epoch 115/200\n",
      "632/632 [==============================] - 0s 70us/step - loss: 0.5591 - acc: 0.6915\n",
      "Epoch 116/200\n",
      "632/632 [==============================] - 0s 66us/step - loss: 0.5571 - acc: 0.7025\n",
      "Epoch 117/200\n",
      "632/632 [==============================] - 0s 70us/step - loss: 0.5739 - acc: 0.6867\n",
      "Epoch 118/200\n",
      "632/632 [==============================] - 0s 76us/step - loss: 0.5660 - acc: 0.6867\n",
      "Epoch 119/200\n",
      "632/632 [==============================] - 0s 71us/step - loss: 0.5745 - acc: 0.6867\n",
      "Epoch 120/200\n",
      "632/632 [==============================] - 0s 89us/step - loss: 0.5490 - acc: 0.7152\n",
      "Epoch 121/200\n",
      "632/632 [==============================] - 0s 81us/step - loss: 0.5576 - acc: 0.6978\n",
      "Epoch 122/200\n",
      "632/632 [==============================] - 0s 71us/step - loss: 0.5509 - acc: 0.6978\n",
      "Epoch 123/200\n",
      "632/632 [==============================] - 0s 71us/step - loss: 0.5612 - acc: 0.6978\n",
      "Epoch 124/200\n",
      "632/632 [==============================] - 0s 98us/step - loss: 0.5565 - acc: 0.7152\n",
      "Epoch 125/200\n",
      "632/632 [==============================] - 0s 76us/step - loss: 0.5556 - acc: 0.7009\n",
      "Epoch 126/200\n",
      "632/632 [==============================] - 0s 77us/step - loss: 0.5661 - acc: 0.6978\n",
      "Epoch 127/200\n",
      "632/632 [==============================] - 0s 74us/step - loss: 0.5585 - acc: 0.6835\n",
      "Epoch 128/200\n",
      "632/632 [==============================] - 0s 100us/step - loss: 0.5520 - acc: 0.7089\n",
      "Epoch 129/200\n",
      "632/632 [==============================] - 0s 73us/step - loss: 0.5563 - acc: 0.7152\n",
      "Epoch 130/200\n",
      "632/632 [==============================] - 0s 66us/step - loss: 0.5558 - acc: 0.6899\n",
      "Epoch 131/200\n",
      "632/632 [==============================] - 0s 65us/step - loss: 0.5400 - acc: 0.7104\n",
      "Epoch 132/200\n",
      "632/632 [==============================] - 0s 77us/step - loss: 0.5512 - acc: 0.7120\n",
      "Epoch 133/200\n",
      "632/632 [==============================] - 0s 77us/step - loss: 0.5475 - acc: 0.7009\n",
      "Epoch 134/200\n",
      "632/632 [==============================] - 0s 71us/step - loss: 0.5515 - acc: 0.6946\n",
      "Epoch 135/200\n",
      "632/632 [==============================] - 0s 74us/step - loss: 0.5404 - acc: 0.7089\n",
      "Epoch 136/200\n",
      "632/632 [==============================] - 0s 73us/step - loss: 0.5378 - acc: 0.7168\n",
      "Epoch 137/200\n",
      "632/632 [==============================] - 0s 68us/step - loss: 0.5537 - acc: 0.6930\n",
      "Epoch 138/200\n",
      "632/632 [==============================] - 0s 65us/step - loss: 0.5484 - acc: 0.6962\n",
      "Epoch 139/200\n",
      "632/632 [==============================] - 0s 73us/step - loss: 0.5542 - acc: 0.6915\n",
      "Epoch 140/200\n",
      "632/632 [==============================] - 0s 70us/step - loss: 0.5582 - acc: 0.6930\n",
      "Epoch 141/200\n",
      "632/632 [==============================] - 0s 66us/step - loss: 0.5608 - acc: 0.6930\n",
      "Epoch 142/200\n",
      "632/632 [==============================] - 0s 70us/step - loss: 0.5460 - acc: 0.7009\n",
      "Epoch 143/200\n",
      "632/632 [==============================] - 0s 77us/step - loss: 0.5467 - acc: 0.7089\n",
      "Epoch 144/200\n",
      "632/632 [==============================] - 0s 70us/step - loss: 0.5421 - acc: 0.7073\n",
      "Epoch 145/200\n",
      "632/632 [==============================] - 0s 68us/step - loss: 0.5419 - acc: 0.7009\n",
      "Epoch 146/200\n",
      "632/632 [==============================] - 0s 74us/step - loss: 0.5524 - acc: 0.6835\n",
      "Epoch 147/200\n",
      "632/632 [==============================] - 0s 66us/step - loss: 0.5393 - acc: 0.7152\n",
      "Epoch 148/200\n",
      "632/632 [==============================] - 0s 71us/step - loss: 0.5568 - acc: 0.6946\n",
      "Epoch 149/200\n",
      "632/632 [==============================] - 0s 71us/step - loss: 0.5452 - acc: 0.7057\n",
      "Epoch 150/200\n",
      "632/632 [==============================] - 0s 85us/step - loss: 0.5382 - acc: 0.7073\n",
      "Epoch 151/200\n",
      "632/632 [==============================] - 0s 73us/step - loss: 0.5431 - acc: 0.6883\n",
      "Epoch 152/200\n",
      "632/632 [==============================] - 0s 66us/step - loss: 0.5318 - acc: 0.7152\n",
      "Epoch 153/200\n",
      "632/632 [==============================] - 0s 70us/step - loss: 0.5385 - acc: 0.7057\n",
      "Epoch 154/200\n",
      "632/632 [==============================] - 0s 71us/step - loss: 0.5505 - acc: 0.7120\n",
      "Epoch 155/200\n",
      "632/632 [==============================] - 0s 70us/step - loss: 0.5383 - acc: 0.7231\n",
      "Epoch 156/200\n",
      "632/632 [==============================] - 0s 65us/step - loss: 0.5380 - acc: 0.6978\n",
      "Epoch 157/200\n",
      "632/632 [==============================] - 0s 76us/step - loss: 0.5495 - acc: 0.7089\n",
      "Epoch 158/200\n",
      "632/632 [==============================] - 0s 76us/step - loss: 0.5464 - acc: 0.6915\n",
      "Epoch 159/200\n",
      "632/632 [==============================] - 0s 96us/step - loss: 0.5451 - acc: 0.6930\n",
      "Epoch 160/200\n",
      "632/632 [==============================] - 0s 76us/step - loss: 0.5409 - acc: 0.7041\n",
      "Epoch 161/200\n",
      "632/632 [==============================] - 0s 71us/step - loss: 0.5393 - acc: 0.7104\n",
      "Epoch 162/200\n",
      "632/632 [==============================] - 0s 73us/step - loss: 0.5315 - acc: 0.7215\n",
      "Epoch 163/200\n",
      "632/632 [==============================] - 0s 73us/step - loss: 0.5446 - acc: 0.6962\n",
      "Epoch 164/200\n",
      "632/632 [==============================] - 0s 74us/step - loss: 0.5415 - acc: 0.6978\n",
      "Epoch 165/200\n",
      "632/632 [==============================] - 0s 73us/step - loss: 0.5265 - acc: 0.7358\n",
      "Epoch 166/200\n",
      "632/632 [==============================] - 0s 62us/step - loss: 0.5228 - acc: 0.7278\n"
     ]
    },
    {
     "name": "stdout",
     "output_type": "stream",
     "text": [
      "Epoch 167/200\n",
      "632/632 [==============================] - 0s 68us/step - loss: 0.5355 - acc: 0.7104\n",
      "Epoch 168/200\n",
      "632/632 [==============================] - 0s 65us/step - loss: 0.5379 - acc: 0.7025\n",
      "Epoch 169/200\n",
      "632/632 [==============================] - 0s 62us/step - loss: 0.5231 - acc: 0.7247\n",
      "Epoch 170/200\n",
      "632/632 [==============================] - 0s 66us/step - loss: 0.5366 - acc: 0.7215\n",
      "Epoch 171/200\n",
      "632/632 [==============================] - 0s 63us/step - loss: 0.5323 - acc: 0.7231\n",
      "Epoch 172/200\n",
      "632/632 [==============================] - 0s 70us/step - loss: 0.5272 - acc: 0.7215\n",
      "Epoch 173/200\n",
      "632/632 [==============================] - 0s 62us/step - loss: 0.5361 - acc: 0.7073\n",
      "Epoch 174/200\n",
      "632/632 [==============================] - 0s 71us/step - loss: 0.5335 - acc: 0.7136\n",
      "Epoch 175/200\n",
      "632/632 [==============================] - 0s 81us/step - loss: 0.5296 - acc: 0.7120\n",
      "Epoch 176/200\n",
      "632/632 [==============================] - 0s 76us/step - loss: 0.5328 - acc: 0.7104\n",
      "Epoch 177/200\n",
      "632/632 [==============================] - 0s 100us/step - loss: 0.5516 - acc: 0.6899\n",
      "Epoch 178/200\n",
      "632/632 [==============================] - 0s 100us/step - loss: 0.5271 - acc: 0.7168\n",
      "Epoch 179/200\n",
      "632/632 [==============================] - 0s 84us/step - loss: 0.5262 - acc: 0.7120\n",
      "Epoch 180/200\n",
      "632/632 [==============================] - 0s 81us/step - loss: 0.5209 - acc: 0.7152\n",
      "Epoch 181/200\n",
      "632/632 [==============================] - 0s 81us/step - loss: 0.5336 - acc: 0.7073\n",
      "Epoch 182/200\n",
      "632/632 [==============================] - 0s 73us/step - loss: 0.5276 - acc: 0.7231\n",
      "Epoch 183/200\n",
      "632/632 [==============================] - 0s 77us/step - loss: 0.5223 - acc: 0.7168\n",
      "Epoch 184/200\n",
      "632/632 [==============================] - 0s 70us/step - loss: 0.5359 - acc: 0.7168\n",
      "Epoch 185/200\n",
      "632/632 [==============================] - 0s 71us/step - loss: 0.5239 - acc: 0.7104\n",
      "Epoch 186/200\n",
      "632/632 [==============================] - 0s 81us/step - loss: 0.5182 - acc: 0.7199\n",
      "Epoch 187/200\n",
      "632/632 [==============================] - 0s 65us/step - loss: 0.5396 - acc: 0.7009\n",
      "Epoch 188/200\n",
      "632/632 [==============================] - 0s 63us/step - loss: 0.5240 - acc: 0.7231\n",
      "Epoch 189/200\n",
      "632/632 [==============================] - 0s 70us/step - loss: 0.5130 - acc: 0.7215\n",
      "Epoch 190/200\n",
      "632/632 [==============================] - 0s 60us/step - loss: 0.5183 - acc: 0.7215\n",
      "Epoch 191/200\n",
      "632/632 [==============================] - 0s 73us/step - loss: 0.5206 - acc: 0.7484\n",
      "Epoch 192/200\n",
      "632/632 [==============================] - 0s 65us/step - loss: 0.5164 - acc: 0.7168\n",
      "Epoch 193/200\n",
      "632/632 [==============================] - 0s 63us/step - loss: 0.5430 - acc: 0.7025\n",
      "Epoch 194/200\n",
      "632/632 [==============================] - 0s 71us/step - loss: 0.5096 - acc: 0.7373\n",
      "Epoch 195/200\n",
      "632/632 [==============================] - 0s 66us/step - loss: 0.5209 - acc: 0.7326\n",
      "Epoch 196/200\n",
      "632/632 [==============================] - 0s 68us/step - loss: 0.5150 - acc: 0.7263\n",
      "Epoch 197/200\n",
      "632/632 [==============================] - 0s 73us/step - loss: 0.5150 - acc: 0.7231\n",
      "Epoch 198/200\n",
      "632/632 [==============================] - 0s 81us/step - loss: 0.5051 - acc: 0.7468\n",
      "Epoch 199/200\n",
      "632/632 [==============================] - 0s 77us/step - loss: 0.5081 - acc: 0.7342\n",
      "Epoch 200/200\n",
      "632/632 [==============================] - 0s 82us/step - loss: 0.5180 - acc: 0.7120\n"
     ]
    },
    {
     "data": {
      "text/plain": [
       "<keras.callbacks.History at 0x24f1be033c8>"
      ]
     },
     "execution_count": 15,
     "metadata": {},
     "output_type": "execute_result"
    }
   ],
   "source": [
    "clf.fit(X_train_sel, y_train)"
   ]
  },
  {
   "cell_type": "markdown",
   "metadata": {},
   "source": [
    "## Loss & Accuracy\n",
    "Loss is often used in the training process to find the \"best\" parameter values for your model <br>\n",
    "Accuracy is when you apply model using the optimized parameters above to see how accurate of your model"
   ]
  },
  {
   "cell_type": "markdown",
   "metadata": {},
   "source": [
    "Check Loss Trend"
   ]
  },
  {
   "cell_type": "code",
   "execution_count": 54,
   "metadata": {},
   "outputs": [
    {
     "data": {
      "text/plain": [
       "[<matplotlib.lines.Line2D at 0x24f25e18400>]"
      ]
     },
     "execution_count": 54,
     "metadata": {},
     "output_type": "execute_result"
    },
    {
     "data": {
      "image/png": "[encoded data removed]",
      "text/plain": [
       "<Figure size 432x288 with 1 Axes>"
      ]
     },
     "metadata": {
      "needs_background": "light"
     },
     "output_type": "display_data"
    }
   ],
   "source": [
    "import matplotlib.pyplot as plt\n",
    "plt.ylim(0, 1)\n",
    "plt.plot(clf.model.history.history['loss'])"
   ]
  },
  {
   "cell_type": "markdown",
   "metadata": {},
   "source": [
    "Check Accuracy Trend"
   ]
  },
  {
   "cell_type": "code",
   "execution_count": 55,
   "metadata": {
    "scrolled": true
   },
   "outputs": [
    {
     "data": {
      "text/plain": [
       "[<matplotlib.lines.Line2D at 0x24f25dd7e10>]"
      ]
     },
     "execution_count": 55,
     "metadata": {},
     "output_type": "execute_result"
    },
    {
     "data": {
      "image/png": "[encoded data removed]",
      "text/plain": [
       "<Figure size 432x288 with 1 Axes>"
      ]
     },
     "metadata": {
      "needs_background": "light"
     },
     "output_type": "display_data"
    }
   ],
   "source": [
    "clf.model.history.history['acc']\n",
    "plt.ylim(0, 1)\n",
    "plt.plot(clf.model.history.history['acc'])"
   ]
  },
  {
   "cell_type": "markdown",
   "metadata": {},
   "source": [
    "Test our Deep Learning Model"
   ]
  },
  {
   "cell_type": "code",
   "execution_count": 23,
   "metadata": {},
   "outputs": [
    {
     "data": {
      "text/plain": [
       "0.6286764705882353"
      ]
     },
     "execution_count": 23,
     "metadata": {},
     "output_type": "execute_result"
    }
   ],
   "source": [
    "y_pred = clf.predict(X_test_sel)\n",
    "accuracy_score(y_test, y_pred)"
   ]
  },
  {
   "cell_type": "markdown",
   "metadata": {},
   "source": [
    "## Convolution Neural Network"
   ]
  },
  {
   "cell_type": "markdown",
   "metadata": {},
   "source": [
    "CNN are biologically-inspired from the animal visual cortex and CNN considered to be one kinds of multilayer perceptions. In animal visual cortex, each neuron cell is responsible for a small sub-regions of the visualisation called a receptive field. The receptive fields of different neurons are combined and partially overlapped to make it cover the all area of visualization. "
   ]
  },
  {
   "cell_type": "markdown",
   "metadata": {},
   "source": [
    "![CNN](https://raw.github.com/plenoi/CMU_DataScience/master/convolutional_neural_network.png)"
   ]
  },
  {
   "cell_type": "markdown",
   "metadata": {},
   "source": [
    "![CNN2](https://raw.github.com/plenoi/CMU_DataScience/master/cnn.png)"
   ]
  },
  {
   "cell_type": "markdown",
   "metadata": {},
   "source": [
    "Load digits image dataset from sklearn"
   ]
  },
  {
   "cell_type": "code",
   "execution_count": 50,
   "metadata": {},
   "outputs": [
    {
     "data": {
      "text/plain": [
       "(1797, 8, 8)"
      ]
     },
     "execution_count": 50,
     "metadata": {},
     "output_type": "execute_result"
    }
   ],
   "source": [
    "from sklearn import datasets\n",
    "digit = datasets.load_digits()\n",
    "X = digit.images\n",
    "y = digit.target\n",
    "X.shape"
   ]
  },
  {
   "cell_type": "markdown",
   "metadata": {},
   "source": [
    "Split Train & Test"
   ]
  },
  {
   "cell_type": "code",
   "execution_count": 60,
   "metadata": {},
   "outputs": [
    {
     "data": {
      "text/plain": [
       "(360, 8, 8)"
      ]
     },
     "execution_count": 60,
     "metadata": {},
     "output_type": "execute_result"
    }
   ],
   "source": [
    "from sklearn.model_selection import train_test_split\n",
    "X_train, X_test, y_train, y_test = train_test_split(X, y, test_size = 0.2)\n",
    "X_test.shape"
   ]
  },
  {
   "cell_type": "markdown",
   "metadata": {},
   "source": [
    "Load skimage library for image processing"
   ]
  },
  {
   "cell_type": "code",
   "execution_count": 52,
   "metadata": {},
   "outputs": [
    {
     "data": {
      "image/png": "[encoded data removed]",
      "text/plain": [
       "<Figure size 432x288 with 2 Axes>"
      ]
     },
     "metadata": {
      "needs_background": "light"
     },
     "output_type": "display_data"
    }
   ],
   "source": [
    "from skimage import io\n",
    "io.imshow(X[0], cmap='gray')\n",
    "io.show()"
   ]
  },
  {
   "cell_type": "markdown",
   "metadata": {},
   "source": [
    "Create CNN model"
   ]
  },
  {
   "cell_type": "code",
   "execution_count": 66,
   "metadata": {},
   "outputs": [],
   "source": [
    "from keras.layers import Convolution2D, MaxPool2D, Dropout, Flatten\n",
    "from keras import backend as K\n",
    "def create_cnn_model(h,w):\n",
    "    K.set_image_dim_ordering('th')\n",
    "    model = Sequential()\n",
    "    model.add(Convolution2D(32,(3,3), activation='relu', input_shape=(1,h,w)))\n",
    "    model.add(MaxPool2D(pool_size=(2,2)))\n",
    "    model.add(Flatten())\n",
    "    model.add(Dense(128,activation='relu'))\n",
    "    model.add(Dropout(0.5))\n",
    "    model.add(Dense(128,activation='relu'))\n",
    "    model.add(Dropout(0.5))\n",
    "    model.add(Dense(10,activation='softmax'))\n",
    "    model.compile(loss='categorical_crossentropy',optimizer='sgd', metrics=['accuracy'])\n",
    "    return model"
   ]
  },
  {
   "cell_type": "markdown",
   "metadata": {},
   "source": [
    "Reshape input data to 1 channel images"
   ]
  },
  {
   "cell_type": "code",
   "execution_count": 67,
   "metadata": {},
   "outputs": [],
   "source": [
    "h = 8\n",
    "w = 8\n",
    "X_train = X_train.reshape(X_train.shape[0],1,h,w)\n",
    "X_test = X_test.reshape(X_test.shape[0],1,h,w)"
   ]
  },
  {
   "cell_type": "markdown",
   "metadata": {},
   "source": [
    "Create CNN Classifier"
   ]
  },
  {
   "cell_type": "code",
   "execution_count": 68,
   "metadata": {},
   "outputs": [],
   "source": [
    "clf = KerasClassifier(build_fn = create_cnn_model, h=h, w=w, epochs=5, batch_size=20)"
   ]
  },
  {
   "cell_type": "markdown",
   "metadata": {},
   "source": [
    "Change label to Neural Network friendly format (Dummy Coding, OneHotEncoder)"
   ]
  },
  {
   "cell_type": "code",
   "execution_count": 82,
   "metadata": {},
   "outputs": [],
   "source": [
    "from keras.utils import np_utils\n",
    "y_train_oh = np_utils.to_categorical(y_train)\n",
    "y_test_oh = np_utils.to_categorical(y_test)"
   ]
  },
  {
   "cell_type": "markdown",
   "metadata": {},
   "source": [
    "Train model"
   ]
  },
  {
   "cell_type": "code",
   "execution_count": 88,
   "metadata": {},
   "outputs": [
    {
     "name": "stdout",
     "output_type": "stream",
     "text": [
      "Epoch 1/5\n",
      "1437/1437 [==============================] - 1s 618us/step - loss: 2.2514 - acc: 0.2477\n",
      "Epoch 2/5\n",
      "1437/1437 [==============================] - 0s 275us/step - loss: 1.6213 - acc: 0.4356\n",
      "Epoch 3/5\n",
      "1437/1437 [==============================] - 0s 262us/step - loss: 1.2166 - acc: 0.5839\n",
      "Epoch 4/5\n",
      "1437/1437 [==============================] - 0s 305us/step - loss: 0.9944 - acc: 0.6667\n",
      "Epoch 5/5\n",
      "1437/1437 [==============================] - 0s 317us/step - loss: 0.8138 - acc: 0.7265\n"
     ]
    },
    {
     "data": {
      "text/plain": [
       "<keras.callbacks.History at 0x24f2c4fc828>"
      ]
     },
     "execution_count": 88,
     "metadata": {},
     "output_type": "execute_result"
    }
   ],
   "source": [
    "clf.fit(X_train, y_train_oh)"
   ]
  },
  {
   "cell_type": "markdown",
   "metadata": {},
   "source": [
    "Continue Training"
   ]
  },
  {
   "cell_type": "code",
   "execution_count": 89,
   "metadata": {},
   "outputs": [
    {
     "name": "stdout",
     "output_type": "stream",
     "text": [
      "Epoch 1/10\n",
      "1437/1437 [==============================] - 0s 265us/step - loss: 0.6996 - acc: 0.7648\n",
      "Epoch 2/10\n",
      "1437/1437 [==============================] - 0s 230us/step - loss: 0.6027 - acc: 0.7996\n",
      "Epoch 3/10\n",
      "1437/1437 [==============================] - 0s 220us/step - loss: 0.5870 - acc: 0.7996\n",
      "Epoch 4/10\n",
      "1437/1437 [==============================] - 0s 225us/step - loss: 0.5358 - acc: 0.8260\n",
      "Epoch 5/10\n",
      "1437/1437 [==============================] - 0s 266us/step - loss: 0.5018 - acc: 0.8372\n",
      "Epoch 6/10\n",
      "1437/1437 [==============================] - 0s 241us/step - loss: 0.4340 - acc: 0.8664\n",
      "Epoch 7/10\n",
      "1437/1437 [==============================] - 0s 229us/step - loss: 0.4343 - acc: 0.8636\n",
      "Epoch 8/10\n",
      "1437/1437 [==============================] - 0s 221us/step - loss: 0.3628 - acc: 0.8831\n",
      "Epoch 9/10\n",
      "1437/1437 [==============================] - 0s 242us/step - loss: 0.3981 - acc: 0.8782\n",
      "Epoch 10/10\n",
      "1437/1437 [==============================] - 0s 237us/step - loss: 0.3440 - acc: 0.8914\n"
     ]
    },
    {
     "data": {
      "text/plain": [
       "<keras.callbacks.History at 0x24f2a711048>"
      ]
     },
     "execution_count": 89,
     "metadata": {},
     "output_type": "execute_result"
    }
   ],
   "source": [
    "clf.model.fit(X_train, y_train_oh, epochs=10)"
   ]
  },
  {
   "cell_type": "markdown",
   "metadata": {},
   "source": [
    "Try Test Result"
   ]
  },
  {
   "cell_type": "code",
   "execution_count": 90,
   "metadata": {},
   "outputs": [
    {
     "data": {
      "text/plain": [
       "0.9777777777777777"
      ]
     },
     "execution_count": 90,
     "metadata": {},
     "output_type": "execute_result"
    }
   ],
   "source": [
    "y_pred = clf.predict(X_test)\n",
    "accuracy_score(y_test, y_pred)"
   ]
  },
  {
   "cell_type": "markdown",
   "metadata": {},
   "source": [
    "Ex.3 Find Best Model for Esophagus Cancer Prediction <br>\n",
    "You must have 10-CV Training Accuracy & Test Accuracy"
   ]
  },
  {
   "cell_type": "code",
   "execution_count": null,
   "metadata": {},
   "outputs": [],
   "source": []
  },
  {
   "cell_type": "markdown",
   "metadata": {},
   "source": [
    "Ex.4 Find Best Model for Digits Image Prediction using CNN <br>\n",
    "You must have 10-CV Training Accuracy & Test Accuracy <br>\n",
    "Hint : Same as Scikit Learn"
   ]
  },
  {
   "cell_type": "code",
   "execution_count": null,
   "metadata": {},
   "outputs": [],
   "source": []
  },
  {
   "cell_type": "markdown",
   "metadata": {},
   "source": [
    "## Save Scikit Learn Model"
   ]
  },
  {
   "cell_type": "markdown",
   "metadata": {},
   "source": [
    "Ex.5 Write code to store Scikit Learn Classifier Model (Model Persistence)"
   ]
  },
  {
   "cell_type": "code",
   "execution_count": null,
   "metadata": {},
   "outputs": [],
   "source": []
  },
  {
   "cell_type": "markdown",
   "metadata": {},
   "source": [
    "## Load Scikit Learn Model\n",
    "Ex.6 Write code to load Scikit Learn Classifier Model"
   ]
  },
  {
   "cell_type": "code",
   "execution_count": null,
   "metadata": {},
   "outputs": [],
   "source": []
  },
  {
   "cell_type": "markdown",
   "metadata": {},
   "source": [
    "## Save Deep Learning Model\n",
    "Store Architecture of Model"
   ]
  },
  {
   "cell_type": "code",
   "execution_count": 92,
   "metadata": {},
   "outputs": [
    {
     "data": {
      "text/plain": [
       "2696"
      ]
     },
     "execution_count": 92,
     "metadata": {},
     "output_type": "execute_result"
    }
   ],
   "source": [
    "json_model = clf.model.to_json()\n",
    "open('model_architecture.json', 'w').write(json_model)"
   ]
  },
  {
   "cell_type": "markdown",
   "metadata": {},
   "source": [
    "Store Weight of Model"
   ]
  },
  {
   "cell_type": "code",
   "execution_count": 93,
   "metadata": {},
   "outputs": [],
   "source": [
    "clf.model.save_weights('model_weights.h5', overwrite=True)"
   ]
  },
  {
   "cell_type": "markdown",
   "metadata": {},
   "source": [
    "Store Classes"
   ]
  },
  {
   "cell_type": "code",
   "execution_count": 105,
   "metadata": {},
   "outputs": [],
   "source": [
    "import pickle\n",
    "pickle.dump(clf.classes_, open('classes.pkl','wb'))"
   ]
  },
  {
   "cell_type": "markdown",
   "metadata": {},
   "source": [
    "## Load Deep Learning Model\n",
    "Load Model & Weight"
   ]
  },
  {
   "cell_type": "code",
   "execution_count": 94,
   "metadata": {},
   "outputs": [],
   "source": [
    "from keras.models import model_from_json\n",
    "model = model_from_json(open('model_architecture.json').read())\n",
    "model.load_weights('model_weights.h5')"
   ]
  },
  {
   "cell_type": "markdown",
   "metadata": {},
   "source": [
    "Compile Model"
   ]
  },
  {
   "cell_type": "code",
   "execution_count": 95,
   "metadata": {},
   "outputs": [],
   "source": [
    "model.compile(loss='categorical_crossentropy', optimizer='sgd')"
   ]
  },
  {
   "cell_type": "markdown",
   "metadata": {},
   "source": [
    "Create Model & Load Classes"
   ]
  },
  {
   "cell_type": "code",
   "execution_count": 106,
   "metadata": {},
   "outputs": [],
   "source": [
    "clf2 = KerasClassifier(build_fn = create_cnn_model, h=h, w=w, epochs=5, batch_size=20)\n",
    "clf2.model = model\n",
    "clf2.classes_ = pickle.load(open('classes.pkl','rb'))"
   ]
  },
  {
   "cell_type": "markdown",
   "metadata": {},
   "source": [
    "Try Test Result"
   ]
  },
  {
   "cell_type": "code",
   "execution_count": 107,
   "metadata": {},
   "outputs": [
    {
     "data": {
      "text/plain": [
       "0.9777777777777777"
      ]
     },
     "execution_count": 107,
     "metadata": {},
     "output_type": "execute_result"
    }
   ],
   "source": [
    "y_pred = clf2.predict(X_test)\n",
    "accuracy_score(y_test, y_pred)"
   ]
  }
 ],
 "metadata": {
  "kernelspec": {
   "display_name": "Python 3",
   "language": "python",
   "name": "python3"
  },
  "language_info": {
   "codemirror_mode": {
    "name": "ipython",
    "version": 3
   },
   "file_extension": ".py",
   "mimetype": "text/x-python",
   "name": "python",
   "nbconvert_exporter": "python",
   "pygments_lexer": "ipython3",
   "version": "3.6.8"
  },
  "varInspector": {
   "cols": {
    "lenName": 16,
    "lenType": 16,
    "lenVar": 40
   },
   "kernels_config": {
    "python": {
     "delete_cmd_postfix": "",
     "delete_cmd_prefix": "del ",
     "library": "var_list.py",
     "varRefreshCmd": "print(var_dic_list())"
    },
    "r": {
     "delete_cmd_postfix": ") ",
     "delete_cmd_prefix": "rm(",
     "library": "var_list.r",
     "varRefreshCmd": "cat(var_dic_list()) "
    }
   },
   "types_to_exclude": [
    "module",
    "function",
    "builtin_function_or_method",
    "instance",
    "_Feature"
   ],
   "window_display": false
  }
 },
 "nbformat": 4,
 "nbformat_minor": 2
}
