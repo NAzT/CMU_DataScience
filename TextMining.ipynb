{
  "nbformat": 4,
  "nbformat_minor": 0,
  "metadata": {
    "colab": {
      "name": "TextMining.ipynb",
      "provenance": [],
      "include_colab_link": true
    },
    "kernelspec": {
      "name": "python3",
      "display_name": "Python 3"
    }
  },
  "cells": [
    {
      "cell_type": "markdown",
      "metadata": {
        "id": "view-in-github",
        "colab_type": "text"
      },
      "source": [
        "<a href=\"https://colab.research.google.com/github/plenoi/CMU_DataScience/blob/master/TextMining.ipynb\" target=\"_parent\"><img src=\"https://colab.research.google.com/assets/colab-badge.svg\" alt=\"Open In Colab\"/></a>"
      ]
    },
    {
      "cell_type": "markdown",
      "metadata": {
        "id": "FvbdJOsXCkON",
        "colab_type": "text"
      },
      "source": [
        "# Read Wongnai Dataset"
      ]
    },
    {
      "cell_type": "code",
      "metadata": {
        "id": "H0-h-U8U61Eo",
        "colab_type": "code",
        "colab": {}
      },
      "source": [
        "import pandas as pd\n",
        "df_train = pd.read_csv('https://raw.githubusercontent.com/plenoi/CMU_DataScience/master/train.txt',sep='|',header=None)"
      ],
      "execution_count": 0,
      "outputs": []
    },
    {
      "cell_type": "markdown",
      "metadata": {
        "id": "wp2CfWXdOBUP",
        "colab_type": "text"
      },
      "source": [
        "# Load Aj.Ple Custom Dictionary"
      ]
    },
    {
      "cell_type": "code",
      "metadata": {
        "id": "VxABf1UHMaBa",
        "colab_type": "code",
        "colab": {}
      },
      "source": [
        "dictionary = pd.read_csv('https://raw.githubusercontent.com/plenoi/CMU_DataScience/master/mydict.csv', header= None)"
      ],
      "execution_count": 0,
      "outputs": []
    },
    {
      "cell_type": "markdown",
      "metadata": {
        "id": "f5IG1zEVQRc8",
        "colab_type": "text"
      },
      "source": [
        "# Aj.Ple Tokenization Function\n"
      ]
    },
    {
      "cell_type": "code",
      "metadata": {
        "id": "LZ5Gx3W-QQrE",
        "colab_type": "code",
        "colab": {}
      },
      "source": [
        "def isThai(chr):\n",
        "    cVal = ord(chr)\n",
        "    if(cVal >= 3584 and cVal <= 3711):\n",
        "        return True\n",
        "    return False\n",
        "    \n",
        "def tokenize(string, length):\n",
        "    string = ''.join(list(filter(isThai, string)))\n",
        "    string = string.replace(' ','')\n",
        "    result = dict() \n",
        "    for word in dictionary:\n",
        "        if len(word) > length:\n",
        "            s = 0\n",
        "            while (1):\n",
        "                s = string.find(word, s)\n",
        "                if (s == -1):\n",
        "                    break\n",
        "                else:\n",
        "                    s = s + 1\n",
        "                    result[s] = word\n",
        "            string = string.replace(word,'฿'*len(word))  \n",
        "    return [value for (key, value) in sorted(result.items())]"
      ],
      "execution_count": 0,
      "outputs": []
    }
  ]
}