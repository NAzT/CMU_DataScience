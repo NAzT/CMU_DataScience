{
  "nbformat": 4,
  "nbformat_minor": 0,
  "metadata": {
    "colab": {
      "name": "rapid_textmining.ipynb",
      "provenance": [],
      "collapsed_sections": [],
      "include_colab_link": true
    },
    "kernelspec": {
      "name": "python3",
      "display_name": "Python 3"
    }
  },
  "cells": [
    {
      "cell_type": "markdown",
      "metadata": {
        "id": "view-in-github",
        "colab_type": "text"
      },
      "source": [
        "<a href=\"https://colab.research.google.com/github/plenoi/CMU_DataScience/blob/master/rapid_textmining.ipynb\" target=\"_parent\"><img src=\"https://colab.research.google.com/assets/colab-badge.svg\" alt=\"Open In Colab\"/></a>"
      ]
    },
    {
      "cell_type": "code",
      "metadata": {
        "id": "xetsznYt6mlD",
        "colab_type": "code",
        "colab": {}
      },
      "source": [
        "#!pip install pythainlp\n",
        "import numpy as np\n",
        "import pandas as pd\n",
        "import pythainlp\n",
        "from sklearn.feature_extraction.text import TfidfVectorizer\n",
        "\n",
        "# rm_main is a mandatory function, \n",
        "# the number of arguments has to be the number of input ports (can be none)\n",
        "def rm_main():\n",
        "\t# Load Data\n",
        "\tdf_train = pd.read_csv('https://raw.githubusercontent.com/plenoi/CMU_DataScience/master/train.txt',sep='|',header=None)\n",
        "\tdf_train_tokenized = []\n",
        "\t# Tokenization\n",
        "\tfor i in range(0,len(df_train)):\n",
        "\t  df_train_tokenized.append(' '.join(pythainlp.tokenize.word_tokenize(df_train.iloc[i][0])))\n",
        "\t  \n",
        "\tcv = TfidfVectorizer(tokenizer=lambda x:x.split(),ngram_range = (1,1), stop_words =[\"ฉัน\",\"ผม\"],\n",
        "\t                      min_df=10,max_df=0.9,norm=None,\n",
        "\t                      use_idf=False,smooth_idf=False)\n",
        "\tcv.fit(df_train_tokenized)\n",
        "\tX = cv.transform(df_train_tokenized).toarray()\n",
        "\ty = df_train.iloc[:][1]\n",
        "\tcombined = np.concatenate((y,X), axis=1)\n",
        "\tdf_result = pd.DataFrame(combined)\n",
        "\treturn df_result"
      ],
      "execution_count": 0,
      "outputs": []
    }
  ]
}